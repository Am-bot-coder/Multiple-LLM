{
 "cells": [
  {
   "cell_type": "code",
   "execution_count": 1,
   "metadata": {},
   "outputs": [],
   "source": [
    "import json\n",
    "from openai import OpenAI\n",
    "# from anthropic import Anthropic\n",
    "from IPython.display import Markdown, display"
   ]
  },
  {
   "cell_type": "code",
   "execution_count": null,
   "metadata": {},
   "outputs": [
    {
     "name": "stdout",
     "output_type": "stream",
     "text": [
      "OpenAI API Key exists and begins OPENAI_A\n",
      "Anthropic API Key exists and begins ANTHROP\n",
      "Google API Key exists and begins AI\n",
      "DeepSeek API Key exists and begins DEE\n",
      "Groq API Key exists and begins GROQ\n"
     ]
    }
   ],
   "source": [
    "# Print the key prefixes to help with any debugging\n",
    "\n",
    "openai_api_key = 'OPENAI_API_KEY'\n",
    "anthropic_api_key = 'ANTHROPIC_API_KEY'\n",
    "google_api_key = 'GOGGLE_API_KEY'\n",
    "deepseek_api_key = 'DEEPSEEK_API_KEY'\n",
    "groq_api_key = 'GROQ_API_KEY'\n",
    "\n",
    "if openai_api_key:\n",
    "    print(f\"OpenAI API Key exists and begins {openai_api_key[:8]}\")\n",
    "else:\n",
    "    print(\"OpenAI API Key not set\")\n",
    "    \n",
    "if anthropic_api_key:\n",
    "    print(f\"Anthropic API Key exists and begins {anthropic_api_key[:7]}\")\n",
    "else:\n",
    "    print(\"Anthropic API Key not set (and this is optional)\")\n",
    "\n",
    "if google_api_key:\n",
    "    print(f\"Google API Key exists and begins {google_api_key[:2]}\")\n",
    "else:\n",
    "    print(\"Google API Key not set (and this is optional)\")\n",
    "\n",
    "if deepseek_api_key:\n",
    "    print(f\"DeepSeek API Key exists and begins {deepseek_api_key[:3]}\")\n",
    "else:\n",
    "    print(\"DeepSeek API Key not set (and this is optional)\")\n",
    "\n",
    "if groq_api_key:\n",
    "    print(f\"Groq API Key exists and begins {groq_api_key[:4]}\")\n",
    "else:\n",
    "    print(\"Groq API Key not set (and this is optional)\")"
   ]
  },
  {
   "cell_type": "code",
   "execution_count": 3,
   "metadata": {},
   "outputs": [],
   "source": [
    "request = input(\"enter your Query:\")\n",
    "messages = [{\"role\": \"user\", \"content\": request}]"
   ]
  },
  {
   "cell_type": "code",
   "execution_count": 4,
   "metadata": {},
   "outputs": [
    {
     "data": {
      "text/plain": [
       "[{'role': 'user', 'content': 'what is AI agent'}]"
      ]
     },
     "execution_count": 4,
     "metadata": {},
     "output_type": "execute_result"
    }
   ],
   "source": [
    "messages"
   ]
  },
  {
   "cell_type": "code",
   "execution_count": null,
   "metadata": {},
   "outputs": [],
   "source": [
    "\n",
    "model_name = \"gpt-4o-mini\"\n",
    "\n",
    "response = openai.chat.completions.create(model=model_name, messages=messages)\n",
    "answer = response.choices[0].message.content\n",
    "\n",
    "display(Markdown(answer))\n"
   ]
  },
  {
   "cell_type": "code",
   "execution_count": null,
   "metadata": {},
   "outputs": [],
   "source": [
    "\n",
    "\n",
    "model_name = \"claude-3-7-sonnet-latest\"\n",
    "\n",
    "claude = Anthropic()\n",
    "response = claude.messages.create(model=model_name, messages=messages, max_tokens=1000)\n",
    "answer = response.content[0].text\n",
    "\n",
    "display(Markdown(answer))\n"
   ]
  },
  {
   "cell_type": "code",
   "execution_count": 5,
   "metadata": {},
   "outputs": [
    {
     "data": {
      "text/markdown": [
       "An AI agent is essentially a computer program that can perceive its environment, process information, and then act upon that environment to achieve a specific goal. Think of it as a digital being with a purpose.\n",
       "\n",
       "Here's a breakdown of the key components and concepts:\n",
       "\n",
       "**Key Components of an AI Agent:**\n",
       "\n",
       "*   **Perception:**  The agent needs to be able to sense or perceive its environment. This is typically done through sensors or inputs, which can be anything from cameras, microphones, data feeds, or even information provided directly to it.\n",
       "*   **Processing:**  The agent uses algorithms and logic to process the information it receives from its sensors. This processing includes:\n",
       "    *   **Understanding the Current State:** Interpreting the sensory data to understand what's happening.\n",
       "    *   **Planning:**  Deciding on a sequence of actions to achieve its goal.\n",
       "    *   **Reasoning:** Using knowledge and logic to make informed decisions.\n",
       "*   **Action:**  Based on its processing, the agent takes actions that affect its environment.  These actions can be physical (like a robot moving) or virtual (like sending an email or changing a setting).\n",
       "*   **Environment:** The world in which the agent operates and interacts. The environment provides the inputs for the agent's perception and is also affected by the agent's actions.\n",
       "*   **Goal:**  A clearly defined objective that the agent is trying to achieve. This goal guides the agent's planning and decision-making.\n",
       "*   **Actuators:** Mechanisms by which an agent acts upon an environment.\n",
       "\n",
       "**Different Types of AI Agents:**\n",
       "\n",
       "AI agents can be classified based on their complexity and capabilities. Here are a few common categories:\n",
       "\n",
       "*   **Simple Reflex Agents:**  These agents react directly to perceptions. They have a simple \"if-then\" rule system.  For example, \"If temperature is too high, then turn on the fan.\"  They are simple but lack memory and cannot handle complex situations.\n",
       "\n",
       "*   **Model-Based Reflex Agents:**  These agents maintain an internal \"model\" of the environment. This model helps them understand the current state even if they don't have direct sensory input.  They can also predict how their actions will affect the environment.\n",
       "\n",
       "*   **Goal-Based Agents:**  These agents have a specific goal in mind and actively seek to achieve it. They consider the possible actions and choose the one that brings them closer to their goal.\n",
       "\n",
       "*   **Utility-Based Agents:**  These agents go beyond simply achieving a goal. They try to maximize their \"utility\" or satisfaction.  They may consider multiple goals and weigh the costs and benefits of different actions.\n",
       "\n",
       "*   **Learning Agents:**  These are the most sophisticated type of agent. They can learn from their experiences and improve their performance over time.  They often use machine learning techniques to adapt to new situations and refine their decision-making.\n",
       "\n",
       "**Examples of AI Agents:**\n",
       "\n",
       "*   **Chatbots:**  Interact with users to answer questions or provide assistance.\n",
       "*   **Robotic Vacuum Cleaners:**  Navigate and clean floors autonomously.\n",
       "*   **Self-Driving Cars:**  Perceive their surroundings and navigate roads safely.\n",
       "*   **Recommendation Systems:**  Suggest products or content based on user preferences.\n",
       "*   **Spam Filters:**  Identify and filter out unwanted emails.\n",
       "*   **Virtual Assistants (Siri, Alexa, Google Assistant):** Respond to voice commands and perform tasks.\n",
       "*   **Game-Playing AI (Chess, Go):**  Play games against human opponents.\n",
       "*   **Trading Algorithms:** Make decisions about buying and selling stocks.\n",
       "\n",
       "**Key Characteristics of Intelligent Agents:**\n",
       "\n",
       "*   **Autonomy:**  They can operate without direct human intervention.\n",
       "*   **Reactivity:**  They can respond to changes in their environment.\n",
       "*   **Pro-activeness:**  They can take initiative to achieve their goals.\n",
       "*   **Social Ability:** (In some cases) They can communicate and cooperate with other agents or humans.\n",
       "\n",
       "**In Summary:**\n",
       "\n",
       "An AI agent is a program designed to perceive its environment, reason, and act autonomously to achieve a specific goal. They come in various forms, ranging from simple reflex systems to complex learning agents, and are increasingly prevalent in various applications across industries. They are a core component of Artificial Intelligence and will continue to evolve and impact our world.\n"
      ],
      "text/plain": [
       "<IPython.core.display.Markdown object>"
      ]
     },
     "metadata": {},
     "output_type": "display_data"
    }
   ],
   "source": [
    "gemini = OpenAI(api_key=google_api_key, base_url=\"https://generativelanguage.googleapis.com/v1beta/openai/\")\n",
    "model_name = \"gemini-2.0-flash\"\n",
    "\n",
    "response = gemini.chat.completions.create(model=model_name, messages=messages)\n",
    "answer = response.choices[0].message.content\n",
    "\n",
    "display(Markdown(answer))\n"
   ]
  },
  {
   "cell_type": "code",
   "execution_count": null,
   "metadata": {},
   "outputs": [],
   "source": [
    "deepseek = OpenAI(api_key=deepseek_api_key, base_url=\"https://api.deepseek.com/v1\")\n",
    "model_name = \"deepseek-chat\"\n",
    "\n",
    "response = deepseek.chat.completions.create(model=model_name, messages=messages)\n",
    "answer = response.choices[0].message.content\n",
    "\n",
    "display(Markdown(answer))\n"
   ]
  },
  {
   "cell_type": "code",
   "execution_count": null,
   "metadata": {},
   "outputs": [],
   "source": [
    "groq = OpenAI(api_key=groq_api_key, base_url=\"https://api.groq.com/openai/v1\")\n",
    "model_name = \"llama-3.3-70b-versatile\"\n",
    "\n",
    "response = groq.chat.completions.create(model=model_name, messages=messages)\n",
    "answer = response.choices[0].message.content\n",
    "\n",
    "display(Markdown(answer))\n"
   ]
  }
 ],
 "metadata": {
  "kernelspec": {
   "display_name": "Python 3",
   "language": "python",
   "name": "python3"
  },
  "language_info": {
   "codemirror_mode": {
    "name": "ipython",
    "version": 3
   },
   "file_extension": ".py",
   "mimetype": "text/x-python",
   "name": "python",
   "nbconvert_exporter": "python",
   "pygments_lexer": "ipython3",
   "version": "3.13.1"
  }
 },
 "nbformat": 4,
 "nbformat_minor": 2
}
